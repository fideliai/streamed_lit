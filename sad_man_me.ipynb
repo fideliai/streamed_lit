{
  "cells": [
    {
      "cell_type": "markdown",
      "metadata": {
        "id": "EIM2CDvgE952"
      },
      "source": [
        "# Вычисление метрик"
      ]
    },
    {
      "cell_type": "code",
      "execution_count": 60,
      "metadata": {
        "id": "Ep-n5LVME953"
      },
      "outputs": [],
      "source": [
        "import aiohttp\n",
        "import asyncio\n",
        "import json\n",
        "import multiprocessing\n",
        "import requests\n",
        "import pandas as pd\n",
        "import numpy as np\n",
        "\n",
        "from time import time\n",
        "from sklearn.linear_model import LinearRegression\n",
        "from google.colab import userdata"
      ]
    },
    {
      "cell_type": "code",
      "execution_count": 13,
      "metadata": {
        "id": "bHOPf7_6E954"
      },
      "outputs": [],
      "source": [
        "df = pd.read_csv(\"/content/temperature_data.csv\")\n",
        "cities = df[\"city\"].unique()\n",
        "season = \"winter\""
      ]
    },
    {
      "cell_type": "code",
      "execution_count": 51,
      "metadata": {
        "id": "HKwNDULtE954"
      },
      "outputs": [],
      "source": [
        "def aggregate_data(city, df_init):\n",
        "    df = df_init[df_init[\"city\"] == city].copy()\n",
        "\n",
        "    min_temperature = df[\"temperature\"].min()\n",
        "    max_temperature = df[\"temperature\"].max()\n",
        "    mean_temperature = df[\"temperature\"].mean()\n",
        "\n",
        "    anomalies = df.copy()\n",
        "\n",
        "    anomalies[\"moving_average\"] = anomalies[\"temperature\"].rolling(window=30, min_periods=1).mean()\n",
        "    anomalies[\"moving_std\"] = anomalies[\"temperature\"].rolling(window=30, min_periods=2).std()\n",
        "    anomalies[\"is_anomaly\"] = anomalies.apply(\n",
        "        lambda column:\n",
        "                (column[\"temperature\"] > column[\"moving_average\"] + 2 * column[\"moving_std\"]) |\\\n",
        "                (column[\"temperature\"] < column[\"moving_average\"] - 2 * column[\"moving_std\"]),\n",
        "        axis=1\n",
        "    )\n",
        "    anomalies = anomalies[[\"timestamp\", \"temperature\", \"is_anomaly\"]]\n",
        "\n",
        "    season_profile = df.copy()\n",
        "    season_profile = df.groupby(\"season\")[\"temperature\"].agg(average=\"mean\", std=\"std\")\n",
        "\n",
        "    trend = df.copy()\n",
        "\n",
        "    trend[\"timestamp_ordinal\"] = pd.to_datetime(trend[\"timestamp\"])\n",
        "    trend[\"timestamp_ordinal\"] = trend[\"timestamp_ordinal\"].map(pd.Timestamp.toordinal)\n",
        "\n",
        "    X = trend[[\"timestamp_ordinal\"]]\n",
        "    y = trend[[\"temperature\"]]\n",
        "\n",
        "    linreg = LinearRegression()\n",
        "    linreg.fit(X, y)\n",
        "    trend[\"trend\"] = linreg.predict(X)\n",
        "\n",
        "    trend = trend[[\"timestamp\", \"trend\"]]\n",
        "\n",
        "    return {\n",
        "        city: [\n",
        "            mean_temperature,\n",
        "            min_temperature,\n",
        "            max_temperature,\n",
        "            season_profile,\n",
        "            trend,\n",
        "            anomalies\n",
        "        ]\n",
        "    }\n",
        "\n",
        "def weather_data(cities, df):\n",
        "    temp_weather_data = []\n",
        "    weather_data = {}\n",
        "\n",
        "    for city in cities:\n",
        "        temp_weather_data.append(aggregate_data(city, df))\n",
        "\n",
        "    for temp_weather_object in temp_weather_data:\n",
        "        weather_data.update(temp_weather_object)\n",
        "\n",
        "    return weather_data\n",
        "\n",
        "def weather_data_mult(cities, df):\n",
        "    temp_weather_data = []\n",
        "    weather_data = {}\n",
        "\n",
        "    with multiprocessing.Pool(processes=multiprocessing.cpu_count()) as pool:\n",
        "        args = [(city, df) for city in cities]\n",
        "        temp_weather_data = pool.starmap(aggregate_data, args)\n",
        "\n",
        "    for temp_weather_object in temp_weather_data:\n",
        "        weather_data.update(temp_weather_object)\n",
        "\n",
        "    return weather_data\n"
      ]
    },
    {
      "cell_type": "code",
      "execution_count": 46,
      "metadata": {
        "colab": {
          "base_uri": "https://localhost:8080/"
        },
        "id": "xapCpExNE955",
        "outputId": "65ab9762-331f-47cb-8fc8-27c78c4953fc"
      },
      "outputs": [
        {
          "output_type": "stream",
          "name": "stdout",
          "text": [
            "CPU times: user 1.38 s, sys: 2.41 ms, total: 1.38 s\n",
            "Wall time: 1.38 s\n"
          ]
        }
      ],
      "source": [
        "%%time\n",
        "\n",
        "wd = weather_data(cities, df)"
      ]
    },
    {
      "cell_type": "code",
      "execution_count": 47,
      "metadata": {
        "colab": {
          "base_uri": "https://localhost:8080/"
        },
        "id": "GX8mWnfWE956",
        "outputId": "e8fafa1d-0dfb-47ee-fc39-cebef1a2d161"
      },
      "outputs": [
        {
          "output_type": "stream",
          "name": "stdout",
          "text": [
            "CPU times: user 154 ms, sys: 41.8 ms, total: 195 ms\n",
            "Wall time: 1.92 s\n"
          ]
        }
      ],
      "source": [
        "%%time\n",
        "\n",
        "wdm = weather_data_mult(cities, df)"
      ]
    },
    {
      "cell_type": "markdown",
      "metadata": {
        "id": "k6iEcjTAE957"
      },
      "source": [
        "Не смотря на то Wall time у методов одинаковый, время цпу у метода с мультипроцессингом меньше. Если мы будем увеличивать количество задач для ЦПУ не увеличивая задач связанных с вводом выводом, то думаю, что наш выйгрыш от мультипроцессов будет увеличиваться и разница walltime будет сильнее."
      ]
    },
    {
      "cell_type": "code",
      "execution_count": 93,
      "metadata": {
        "id": "seyRv2xgE958"
      },
      "outputs": [],
      "source": [
        "def get_temperatures(cities, api_key):\n",
        "    temperatures = {}\n",
        "\n",
        "    for city in cities:\n",
        "        base_url = \"https://api.openweathermap.org/data/2.5/weather?\"\n",
        "        params = {\n",
        "            'q': city,\n",
        "            \"appid\": api_key,\n",
        "            \"units\": \"metric\"\n",
        "        }\n",
        "\n",
        "        response = requests.get(url=base_url, params=params)\n",
        "        if response.status_code == 200:\n",
        "            temperature = response.json()[\"main\"][\"temp\"]\n",
        "            temperatures.update({city: temperature})\n",
        "        else:\n",
        "            temperatures.update({city: None})\n",
        "\n",
        "    return temperatures\n",
        "\n",
        "def validate_temperature(cities, df, season):\n",
        "    validations = {}\n",
        "\n",
        "    weather_data = collect_weather_data(cities, df)\n",
        "    temperatures = get_temperatures(cities, api_key=userdata.get('API_WEATHER'))\n",
        "\n",
        "    for city in cities:\n",
        "        season_profile = weather_data[city][3]\n",
        "        season_top = season_profile.loc[season, \"average\"] + season_profile.loc[season, \"std\"]\n",
        "        season_bottom = season_profile.loc[season, \"average\"] - season_profile.loc[season, \"std\"]\n",
        "\n",
        "\n",
        "        if temperatures[city] is None:\n",
        "            validations.update({city: \"Нет данных\"})\n",
        "        elif temperatures[city] > season_top:\n",
        "            validations.update({city: \"рекорд жары\"})\n",
        "        elif temperatures[city] < season_bottom:\n",
        "             validations.update({city: \"Рекорд холода\"})\n",
        "        else:\n",
        "             validations.update({city: \"Ок\"})\n",
        "\n",
        "    return validations"
      ]
    },
    {
      "cell_type": "code",
      "execution_count": 98,
      "metadata": {
        "colab": {
          "base_uri": "https://localhost:8080/"
        },
        "id": "Tn0OckkGE958",
        "outputId": "783a22f1-deba-4470-9911-7b664748bdaa"
      },
      "outputs": [
        {
          "output_type": "stream",
          "name": "stdout",
          "text": [
            "CPU times: user 2.4 s, sys: 12.7 ms, total: 2.41 s\n",
            "Wall time: 4.39 s\n"
          ]
        }
      ],
      "source": [
        "%%time\n",
        "\n",
        "validations = validate_temperature(cities, df, \"winter\")"
      ]
    },
    {
      "cell_type": "markdown",
      "metadata": {
        "id": "AlN5Nm5gE958"
      },
      "source": [
        "## Оптимизированный вариант"
      ]
    },
    {
      "cell_type": "code",
      "execution_count": 95,
      "metadata": {
        "id": "TeNijX2KE958"
      },
      "outputs": [],
      "source": [
        "async def async_get_temperatures(city, api_key):\n",
        "    base_url = \"https://api.openweathermap.org/data/2.5/weather?\"\n",
        "    params = {\n",
        "        'q': city,\n",
        "        \"appid\": api_key,\n",
        "        \"units\": \"metric\"\n",
        "    }\n",
        "\n",
        "    async with aiohttp.ClientSession() as session:\n",
        "        async with session.get(url=base_url, params=params) as response:\n",
        "            temperature = await response.text()\n",
        "            temperature = json.loads(temperature)[\"main\"][\"temp\"]\n",
        "\n",
        "    return {city: temperature}\n",
        "\n",
        "async def collect_temperatures(cities: list, api_key: str) -> dict:\n",
        "    temperature = {}\n",
        "    tasks = [async_get_temperatures(city=city, api_key=api_key) for city in cities]\n",
        "    ts = await asyncio.gather(*tasks)\n",
        "\n",
        "    for t in ts:\n",
        "        temperature.update(t)\n",
        "\n",
        "    return temperature\n",
        "\n",
        "async def async_validate_temperature(cities, df, api_key, season):\n",
        "    validations = {}\n",
        "\n",
        "    weather_data = collect_weather_data_multiprocess(cities, df)\n",
        "    temperatures = await collect_temperatures(cities, api_key=userdata.get('API_WEATHER'))\n",
        "\n",
        "    for city in cities:\n",
        "        season_profile = weather_data[city][3]\n",
        "\n",
        "        season_top = season_profile.loc[season, \"average\"] + season_profile.loc[season, \"std\"]\n",
        "        season_bottom = season_profile.loc[season, \"average\"] - season_profile.loc[season, \"std\"]\n",
        "\n",
        "        if temperatures[city] is None:\n",
        "            validations.update({city: \"Нет данных\"})\n",
        "        elif temperatures[city] > season_top:\n",
        "            validations.update({city: \"рекорд жары\"})\n",
        "        elif temperatures[city] < season_bottom:\n",
        "             validations.update({city: \"Рекорд холода\"})\n",
        "        else:\n",
        "             validations.update({city: \"Ок\"})\n",
        "\n",
        "    return validations"
      ]
    },
    {
      "cell_type": "code",
      "execution_count": 96,
      "metadata": {
        "colab": {
          "base_uri": "https://localhost:8080/"
        },
        "id": "qbr1IEaqE958",
        "outputId": "713b3b97-4e14-4623-dc0f-3528c79ebbbb"
      },
      "outputs": [
        {
          "output_type": "stream",
          "name": "stdout",
          "text": [
            "Потрачено: 3.284205675125122 \n"
          ]
        }
      ],
      "source": [
        "start = time()\n",
        "validations = await async_validate_temperature(cities, df, userdata.get('API_WEATHER'), season)\n",
        "print(f'Потрачено: {time() - start} ')"
      ]
    },
    {
      "cell_type": "markdown",
      "metadata": {
        "id": "l38RoGrEE959"
      },
      "source": [
        "Работает быстрее, интересно, если делать это не в коллабе, будет ли больше разница. На самом деле сильно зависит от запуска, у меня были запуски без асинка, которые выполнялись за 2 секунды, и есть за 6. Но вроде что-то вышло"
      ]
    }
  ],
  "metadata": {
    "colab": {
      "provenance": []
    },
    "kernelspec": {
      "display_name": "Python 3 (ipykernel)",
      "language": "python",
      "name": "python3"
    },
    "language_info": {
      "codemirror_mode": {
        "name": "ipython",
        "version": 3
      },
      "file_extension": ".py",
      "mimetype": "text/x-python",
      "name": "python",
      "nbconvert_exporter": "python",
      "pygments_lexer": "ipython3",
      "version": "3.13.0"
    }
  },
  "nbformat": 4,
  "nbformat_minor": 0
}